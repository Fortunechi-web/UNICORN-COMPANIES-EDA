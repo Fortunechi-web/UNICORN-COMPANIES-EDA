{
 "cells": [
  {
   "cell_type": "markdown",
   "id": "37703df0",
   "metadata": {},
   "source": [
    "# The Objective"
   ]
  },
  {
   "cell_type": "markdown",
   "id": "6401c9f0",
   "metadata": {},
   "source": [
    "### The objective of this project is to extract useful data-driven insights about private startups companies that joined the Unicorn club."
   ]
  },
  {
   "cell_type": "code",
   "execution_count": null,
   "id": "1ff33013",
   "metadata": {},
   "outputs": [],
   "source": []
  },
  {
   "cell_type": "code",
   "execution_count": null,
   "id": "1c2f8a58",
   "metadata": {},
   "outputs": [],
   "source": []
  },
  {
   "cell_type": "markdown",
   "id": "4db82781",
   "metadata": {},
   "source": [
    "# Data Description"
   ]
  },
  {
   "cell_type": "markdown",
   "id": "e5530514",
   "metadata": {},
   "source": [
    "### Private companies with the valuation 0ver 0ne billion US dollars as of March 2022 including each company's current valuation, funding country of origin industry, select investors, and the years they were founded and became unicorns."
   ]
  },
  {
   "cell_type": "code",
   "execution_count": null,
   "id": "4b2aa4df",
   "metadata": {},
   "outputs": [],
   "source": []
  },
  {
   "cell_type": "code",
   "execution_count": null,
   "id": "b20af385",
   "metadata": {},
   "outputs": [],
   "source": []
  },
  {
   "cell_type": "markdown",
   "id": "b5957c0a",
   "metadata": {},
   "source": [
    "# Features in The Dataset and Meaning"
   ]
  },
  {
   "cell_type": "markdown",
   "id": "9474c932",
   "metadata": {},
   "source": [
    "### . Company: The name of the company.\n",
    "\n",
    "### . Valuation: Company's valuation in Billion(B) of dollars.\n",
    "\n",
    "### . Data Joined: The date in which the company reached one billion US dollars.\n",
    "\n",
    "### . Industry: The company's industry.\n",
    "\n",
    "### . Country: The country the company was founded in.\n",
    "\n",
    "### . City: The city the company was founded in.\n",
    "\n",
    "### . Continent: The continent the company was founded in.\n",
    "\n",
    "### . Year Founded: The year the company was founded.\n",
    "\n",
    "### . Funding:  The total amount raised across all funding rounds in billions or millions of dollars.\n",
    "\n",
    "### . Seleted Investors: Firm or individual investors."
   ]
  },
  {
   "cell_type": "code",
   "execution_count": null,
   "id": "98773022",
   "metadata": {},
   "outputs": [],
   "source": []
  },
  {
   "cell_type": "code",
   "execution_count": null,
   "id": "46dd7f7e",
   "metadata": {},
   "outputs": [],
   "source": []
  },
  {
   "cell_type": "markdown",
   "id": "9df05874",
   "metadata": {},
   "source": [
    "# Importing The Dependencies"
   ]
  },
  {
   "cell_type": "code",
   "execution_count": 43,
   "id": "437e9ed2",
   "metadata": {},
   "outputs": [],
   "source": [
    "# For Data Analysis\n",
    "\n",
    "import pandas as pd\n",
    "import numpy as np\n",
    "\n",
    "# For Data Visualization\n",
    "\n",
    "import matplotlib.pyplot as plt\n",
    "import seaborn as sns\n",
    "\n",
    "plt.style.use('fivethirtyeight')\n",
    "\n",
    "import warnings\n",
    "warnings.filterwarnings(\"ignore\")"
   ]
  },
  {
   "cell_type": "code",
   "execution_count": null,
   "id": "fb39571c",
   "metadata": {},
   "outputs": [],
   "source": []
  },
  {
   "cell_type": "code",
   "execution_count": null,
   "id": "e6ff476b",
   "metadata": {},
   "outputs": [],
   "source": []
  },
  {
   "cell_type": "markdown",
   "id": "3ab7e702",
   "metadata": {},
   "source": [
    "# Importing The Dataset"
   ]
  },
  {
   "cell_type": "code",
   "execution_count": 44,
   "id": "1cd398ba",
   "metadata": {},
   "outputs": [],
   "source": [
    "pd.set_option(\"Display.max_columns\", None)"
   ]
  },
  {
   "cell_type": "code",
   "execution_count": 45,
   "id": "0b90eaca",
   "metadata": {},
   "outputs": [],
   "source": [
    "Unicorn_data = pd.read_csv('C:\\\\Users\\\\LENOVO USER\\\\Downloads\\\\Unicorn_Companies.csv')"
   ]
  },
  {
   "cell_type": "code",
   "execution_count": null,
   "id": "5b977fdc",
   "metadata": {},
   "outputs": [],
   "source": []
  },
  {
   "cell_type": "code",
   "execution_count": null,
   "id": "bd50a55f",
   "metadata": {},
   "outputs": [],
   "source": []
  },
  {
   "cell_type": "markdown",
   "id": "20c52da2",
   "metadata": {},
   "source": [
    "# Display Top Five of The Dataset"
   ]
  },
  {
   "cell_type": "code",
   "execution_count": 46,
   "id": "38635ed8",
   "metadata": {},
   "outputs": [
    {
     "data": {
      "text/html": [
       "<div>\n",
       "<style scoped>\n",
       "    .dataframe tbody tr th:only-of-type {\n",
       "        vertical-align: middle;\n",
       "    }\n",
       "\n",
       "    .dataframe tbody tr th {\n",
       "        vertical-align: top;\n",
       "    }\n",
       "\n",
       "    .dataframe thead th {\n",
       "        text-align: right;\n",
       "    }\n",
       "</style>\n",
       "<table border=\"1\" class=\"dataframe\">\n",
       "  <thead>\n",
       "    <tr style=\"text-align: right;\">\n",
       "      <th></th>\n",
       "      <th>Company</th>\n",
       "      <th>Valuation</th>\n",
       "      <th>Date Joined</th>\n",
       "      <th>Industry</th>\n",
       "      <th>City</th>\n",
       "      <th>Country</th>\n",
       "      <th>Continent</th>\n",
       "      <th>Year Founded</th>\n",
       "      <th>Funding</th>\n",
       "      <th>Select Investors</th>\n",
       "    </tr>\n",
       "  </thead>\n",
       "  <tbody>\n",
       "    <tr>\n",
       "      <th>0</th>\n",
       "      <td>Bytedance</td>\n",
       "      <td>$180B</td>\n",
       "      <td>2017-04-07</td>\n",
       "      <td>Artificial intelligence</td>\n",
       "      <td>Beijing</td>\n",
       "      <td>China</td>\n",
       "      <td>Asia</td>\n",
       "      <td>2012</td>\n",
       "      <td>$8B</td>\n",
       "      <td>Sequoia Capital China, SIG Asia Investments, S...</td>\n",
       "    </tr>\n",
       "    <tr>\n",
       "      <th>1</th>\n",
       "      <td>SpaceX</td>\n",
       "      <td>$100B</td>\n",
       "      <td>2012-12-01</td>\n",
       "      <td>Other</td>\n",
       "      <td>Hawthorne</td>\n",
       "      <td>United States</td>\n",
       "      <td>North America</td>\n",
       "      <td>2002</td>\n",
       "      <td>$7B</td>\n",
       "      <td>Founders Fund, Draper Fisher Jurvetson, Rothen...</td>\n",
       "    </tr>\n",
       "    <tr>\n",
       "      <th>2</th>\n",
       "      <td>SHEIN</td>\n",
       "      <td>$100B</td>\n",
       "      <td>2018-07-03</td>\n",
       "      <td>E-commerce &amp; direct-to-consumer</td>\n",
       "      <td>Shenzhen</td>\n",
       "      <td>China</td>\n",
       "      <td>Asia</td>\n",
       "      <td>2008</td>\n",
       "      <td>$2B</td>\n",
       "      <td>Tiger Global Management, Sequoia Capital China...</td>\n",
       "    </tr>\n",
       "    <tr>\n",
       "      <th>3</th>\n",
       "      <td>Stripe</td>\n",
       "      <td>$95B</td>\n",
       "      <td>2014-01-23</td>\n",
       "      <td>Fintech</td>\n",
       "      <td>San Francisco</td>\n",
       "      <td>United States</td>\n",
       "      <td>North America</td>\n",
       "      <td>2010</td>\n",
       "      <td>$2B</td>\n",
       "      <td>Khosla Ventures, LowercaseCapital, capitalG</td>\n",
       "    </tr>\n",
       "    <tr>\n",
       "      <th>4</th>\n",
       "      <td>Klarna</td>\n",
       "      <td>$46B</td>\n",
       "      <td>2011-12-12</td>\n",
       "      <td>Fintech</td>\n",
       "      <td>Stockholm</td>\n",
       "      <td>Sweden</td>\n",
       "      <td>Europe</td>\n",
       "      <td>2005</td>\n",
       "      <td>$4B</td>\n",
       "      <td>Institutional Venture Partners, Sequoia Capita...</td>\n",
       "    </tr>\n",
       "  </tbody>\n",
       "</table>\n",
       "</div>"
      ],
      "text/plain": [
       "     Company Valuation Date Joined                         Industry  \\\n",
       "0  Bytedance     $180B  2017-04-07          Artificial intelligence   \n",
       "1     SpaceX     $100B  2012-12-01                            Other   \n",
       "2      SHEIN     $100B  2018-07-03  E-commerce & direct-to-consumer   \n",
       "3     Stripe      $95B  2014-01-23                          Fintech   \n",
       "4     Klarna      $46B  2011-12-12                          Fintech   \n",
       "\n",
       "            City        Country      Continent  Year Founded Funding  \\\n",
       "0        Beijing          China           Asia          2012     $8B   \n",
       "1      Hawthorne  United States  North America          2002     $7B   \n",
       "2       Shenzhen          China           Asia          2008     $2B   \n",
       "3  San Francisco  United States  North America          2010     $2B   \n",
       "4      Stockholm         Sweden         Europe          2005     $4B   \n",
       "\n",
       "                                    Select Investors  \n",
       "0  Sequoia Capital China, SIG Asia Investments, S...  \n",
       "1  Founders Fund, Draper Fisher Jurvetson, Rothen...  \n",
       "2  Tiger Global Management, Sequoia Capital China...  \n",
       "3        Khosla Ventures, LowercaseCapital, capitalG  \n",
       "4  Institutional Venture Partners, Sequoia Capita...  "
      ]
     },
     "execution_count": 46,
     "metadata": {},
     "output_type": "execute_result"
    }
   ],
   "source": [
    "# Let's view the first five rows of our data\n",
    "\n",
    "Unicorn_data.head()"
   ]
  },
  {
   "cell_type": "code",
   "execution_count": null,
   "id": "688ab1ed",
   "metadata": {},
   "outputs": [],
   "source": []
  },
  {
   "cell_type": "code",
   "execution_count": null,
   "id": "acb891dc",
   "metadata": {},
   "outputs": [],
   "source": []
  },
  {
   "cell_type": "markdown",
   "id": "3b180f1d",
   "metadata": {},
   "source": [
    "# Display Last Five of The Dataset"
   ]
  },
  {
   "cell_type": "code",
   "execution_count": 47,
   "id": "f666e113",
   "metadata": {},
   "outputs": [
    {
     "data": {
      "text/html": [
       "<div>\n",
       "<style scoped>\n",
       "    .dataframe tbody tr th:only-of-type {\n",
       "        vertical-align: middle;\n",
       "    }\n",
       "\n",
       "    .dataframe tbody tr th {\n",
       "        vertical-align: top;\n",
       "    }\n",
       "\n",
       "    .dataframe thead th {\n",
       "        text-align: right;\n",
       "    }\n",
       "</style>\n",
       "<table border=\"1\" class=\"dataframe\">\n",
       "  <thead>\n",
       "    <tr style=\"text-align: right;\">\n",
       "      <th></th>\n",
       "      <th>Company</th>\n",
       "      <th>Valuation</th>\n",
       "      <th>Date Joined</th>\n",
       "      <th>Industry</th>\n",
       "      <th>City</th>\n",
       "      <th>Country</th>\n",
       "      <th>Continent</th>\n",
       "      <th>Year Founded</th>\n",
       "      <th>Funding</th>\n",
       "      <th>Select Investors</th>\n",
       "    </tr>\n",
       "  </thead>\n",
       "  <tbody>\n",
       "    <tr>\n",
       "      <th>1069</th>\n",
       "      <td>Zhaogang</td>\n",
       "      <td>$1B</td>\n",
       "      <td>2017-06-29</td>\n",
       "      <td>E-commerce &amp; direct-to-consumer</td>\n",
       "      <td>Shanghai</td>\n",
       "      <td>China</td>\n",
       "      <td>Asia</td>\n",
       "      <td>2012</td>\n",
       "      <td>$379M</td>\n",
       "      <td>K2 Ventures, Matrix Partners China, IDG Capital</td>\n",
       "    </tr>\n",
       "    <tr>\n",
       "      <th>1070</th>\n",
       "      <td>Zhuan Zhuan</td>\n",
       "      <td>$1B</td>\n",
       "      <td>2017-04-18</td>\n",
       "      <td>E-commerce &amp; direct-to-consumer</td>\n",
       "      <td>Beijing</td>\n",
       "      <td>China</td>\n",
       "      <td>Asia</td>\n",
       "      <td>2015</td>\n",
       "      <td>$990M</td>\n",
       "      <td>58.com, Tencent Holdings</td>\n",
       "    </tr>\n",
       "    <tr>\n",
       "      <th>1071</th>\n",
       "      <td>Zihaiguo</td>\n",
       "      <td>$1B</td>\n",
       "      <td>2021-05-06</td>\n",
       "      <td>Consumer &amp; retail</td>\n",
       "      <td>Chongqing</td>\n",
       "      <td>China</td>\n",
       "      <td>Asia</td>\n",
       "      <td>2018</td>\n",
       "      <td>$80M</td>\n",
       "      <td>Xingwang Investment Management, China Capital ...</td>\n",
       "    </tr>\n",
       "    <tr>\n",
       "      <th>1072</th>\n",
       "      <td>Zopa</td>\n",
       "      <td>$1B</td>\n",
       "      <td>2021-10-19</td>\n",
       "      <td>Fintech</td>\n",
       "      <td>London</td>\n",
       "      <td>United Kingdom</td>\n",
       "      <td>Europe</td>\n",
       "      <td>2005</td>\n",
       "      <td>$792M</td>\n",
       "      <td>IAG Capital Partners, Augmentum Fintech, North...</td>\n",
       "    </tr>\n",
       "    <tr>\n",
       "      <th>1073</th>\n",
       "      <td>Zwift</td>\n",
       "      <td>$1B</td>\n",
       "      <td>2020-09-16</td>\n",
       "      <td>E-commerce &amp; direct-to-consumer</td>\n",
       "      <td>Long Beach</td>\n",
       "      <td>United States</td>\n",
       "      <td>North America</td>\n",
       "      <td>2014</td>\n",
       "      <td>$620M</td>\n",
       "      <td>Novator Partners, True, Causeway Media Partners</td>\n",
       "    </tr>\n",
       "  </tbody>\n",
       "</table>\n",
       "</div>"
      ],
      "text/plain": [
       "          Company Valuation Date Joined                         Industry  \\\n",
       "1069     Zhaogang       $1B  2017-06-29  E-commerce & direct-to-consumer   \n",
       "1070  Zhuan Zhuan       $1B  2017-04-18  E-commerce & direct-to-consumer   \n",
       "1071     Zihaiguo       $1B  2021-05-06                Consumer & retail   \n",
       "1072         Zopa       $1B  2021-10-19                          Fintech   \n",
       "1073        Zwift       $1B  2020-09-16  E-commerce & direct-to-consumer   \n",
       "\n",
       "            City         Country      Continent  Year Founded Funding  \\\n",
       "1069    Shanghai           China           Asia          2012   $379M   \n",
       "1070     Beijing           China           Asia          2015   $990M   \n",
       "1071   Chongqing           China           Asia          2018    $80M   \n",
       "1072      London  United Kingdom         Europe          2005   $792M   \n",
       "1073  Long Beach   United States  North America          2014   $620M   \n",
       "\n",
       "                                       Select Investors  \n",
       "1069    K2 Ventures, Matrix Partners China, IDG Capital  \n",
       "1070                           58.com, Tencent Holdings  \n",
       "1071  Xingwang Investment Management, China Capital ...  \n",
       "1072  IAG Capital Partners, Augmentum Fintech, North...  \n",
       "1073    Novator Partners, True, Causeway Media Partners  "
      ]
     },
     "execution_count": 47,
     "metadata": {},
     "output_type": "execute_result"
    }
   ],
   "source": [
    "# Let's view the last five rows of our dataset\n",
    "\n",
    "Unicorn_data.tail()"
   ]
  },
  {
   "cell_type": "code",
   "execution_count": null,
   "id": "b06377c0",
   "metadata": {},
   "outputs": [],
   "source": []
  },
  {
   "cell_type": "code",
   "execution_count": null,
   "id": "173d939d",
   "metadata": {},
   "outputs": [],
   "source": []
  },
  {
   "cell_type": "markdown",
   "id": "fd2423bd",
   "metadata": {},
   "source": [
    "# Get Information About Our Dataset"
   ]
  },
  {
   "cell_type": "code",
   "execution_count": 48,
   "id": "d511b57f",
   "metadata": {},
   "outputs": [
    {
     "name": "stdout",
     "output_type": "stream",
     "text": [
      "<class 'pandas.core.frame.DataFrame'>\n",
      "RangeIndex: 1074 entries, 0 to 1073\n",
      "Data columns (total 10 columns):\n",
      " #   Column            Non-Null Count  Dtype \n",
      "---  ------            --------------  ----- \n",
      " 0   Company           1074 non-null   object\n",
      " 1   Valuation         1074 non-null   object\n",
      " 2   Date Joined       1074 non-null   object\n",
      " 3   Industry          1074 non-null   object\n",
      " 4   City              1058 non-null   object\n",
      " 5   Country           1074 non-null   object\n",
      " 6   Continent         1074 non-null   object\n",
      " 7   Year Founded      1074 non-null   int64 \n",
      " 8   Funding           1074 non-null   object\n",
      " 9   Select Investors  1073 non-null   object\n",
      "dtypes: int64(1), object(9)\n",
      "memory usage: 84.0+ KB\n"
     ]
    }
   ],
   "source": [
    "Unicorn_data.info()"
   ]
  },
  {
   "cell_type": "code",
   "execution_count": null,
   "id": "80122439",
   "metadata": {},
   "outputs": [],
   "source": []
  },
  {
   "cell_type": "code",
   "execution_count": null,
   "id": "8a71b13e",
   "metadata": {},
   "outputs": [],
   "source": []
  },
  {
   "cell_type": "markdown",
   "id": "37307e2a",
   "metadata": {},
   "source": [
    "# Data Cleaning"
   ]
  },
  {
   "cell_type": "code",
   "execution_count": 49,
   "id": "0b505b86",
   "metadata": {},
   "outputs": [],
   "source": [
    "# Let's rename some columns in our dataset for a better understanding\n",
    "\n",
    "Unicorn_data = pd.DataFrame(Unicorn_data)\n",
    "Unicorn_data.rename(columns = {'Date Joined' : 'Date'}, inplace = True)\n",
    "Unicorn_data.rename(columns = {'Select Investors' : 'Investors'}, inplace = True)\n",
    "Unicorn_data['Investors'] = Unicorn_data['Investors'].to_string()"
   ]
  },
  {
   "cell_type": "code",
   "execution_count": null,
   "id": "01363eeb",
   "metadata": {},
   "outputs": [],
   "source": []
  },
  {
   "cell_type": "code",
   "execution_count": null,
   "id": "981f17d8",
   "metadata": {},
   "outputs": [],
   "source": []
  },
  {
   "cell_type": "code",
   "execution_count": 50,
   "id": "c9dca733",
   "metadata": {},
   "outputs": [],
   "source": [
    "# Let's split the Date column into three separate columns; Year, Month, and Day\n",
    "\n",
    "Unicorn_data['Date'] = pd.to_datetime(Unicorn_data['Date'])\n",
    "Unicorn_data['Year'] = Unicorn_data['Date'].dt.year\n",
    "\n",
    "Unicorn_data['Date'] = pd.to_datetime(Unicorn_data['Date'])\n",
    "Unicorn_data['Month'] = Unicorn_data['Date'].dt.month\n",
    "\n",
    "Unicorn_data['Date'] = pd.to_datetime(Unicorn_data['Date'])\n",
    "Unicorn_data['Day'] = Unicorn_data['Date'].dt.day"
   ]
  },
  {
   "cell_type": "code",
   "execution_count": null,
   "id": "bc8be0c1",
   "metadata": {},
   "outputs": [],
   "source": []
  },
  {
   "cell_type": "code",
   "execution_count": null,
   "id": "92e4e2b3",
   "metadata": {},
   "outputs": [],
   "source": []
  },
  {
   "cell_type": "code",
   "execution_count": 51,
   "id": "2e968ddc",
   "metadata": {},
   "outputs": [],
   "source": [
    "# Get rid of $ and B symbol and convert string column to float\n",
    "\n",
    "Unicorn_data['Valuation'] = Unicorn_data['Valuation'].replace({'\\$': ''}, regex=True)\n",
    "Unicorn_data['Valuation'] = Unicorn_data['Valuation'].replace({'B': ''}, regex=True)\n",
    "Unicorn_data['Valuation'] = Unicorn_data['Valuation'].astype(float)"
   ]
  },
  {
   "cell_type": "code",
   "execution_count": 52,
   "id": "535b6146",
   "metadata": {},
   "outputs": [],
   "source": [
    "# Get rid of $ and B symbol in the Funding column\n",
    "\n",
    "# Many characters need replaced in this column\n",
    "Unicorn_data['Funding'] = Unicorn_data['Funding'].replace({'\\$': ''}, regex=True)\n",
    "Unicorn_data['Funding'] = Unicorn_data['Funding'].replace({'M': ''}, regex=True)\n",
    "Unicorn_data['Funding'] = Unicorn_data['Funding'].replace({'B': ''}, regex=True)\n",
    "Unicorn_data['Funding'] = Unicorn_data['Funding'].replace({'K': ''}, regex=True)\n",
    "Unicorn_data['Funding'] = Unicorn_data['Funding'].replace({'None': 0}, regex=True)"
   ]
  },
  {
   "cell_type": "code",
   "execution_count": null,
   "id": "2fab13a5",
   "metadata": {},
   "outputs": [],
   "source": []
  },
  {
   "cell_type": "code",
   "execution_count": null,
   "id": "e5c1a203",
   "metadata": {},
   "outputs": [],
   "source": []
  },
  {
   "cell_type": "code",
   "execution_count": 53,
   "id": "1f4837ed",
   "metadata": {},
   "outputs": [
    {
     "data": {
      "text/html": [
       "<div>\n",
       "<style scoped>\n",
       "    .dataframe tbody tr th:only-of-type {\n",
       "        vertical-align: middle;\n",
       "    }\n",
       "\n",
       "    .dataframe tbody tr th {\n",
       "        vertical-align: top;\n",
       "    }\n",
       "\n",
       "    .dataframe thead th {\n",
       "        text-align: right;\n",
       "    }\n",
       "</style>\n",
       "<table border=\"1\" class=\"dataframe\">\n",
       "  <thead>\n",
       "    <tr style=\"text-align: right;\">\n",
       "      <th></th>\n",
       "      <th>Company</th>\n",
       "      <th>Valuation</th>\n",
       "      <th>Date</th>\n",
       "      <th>Industry</th>\n",
       "      <th>City</th>\n",
       "      <th>Country</th>\n",
       "      <th>Continent</th>\n",
       "      <th>Year Founded</th>\n",
       "      <th>Funding</th>\n",
       "      <th>Investors</th>\n",
       "      <th>Year</th>\n",
       "      <th>Month</th>\n",
       "      <th>Day</th>\n",
       "    </tr>\n",
       "  </thead>\n",
       "  <tbody>\n",
       "    <tr>\n",
       "      <th>0</th>\n",
       "      <td>Bytedance</td>\n",
       "      <td>180.0</td>\n",
       "      <td>2017-04-07</td>\n",
       "      <td>Artificial intelligence</td>\n",
       "      <td>Beijing</td>\n",
       "      <td>China</td>\n",
       "      <td>Asia</td>\n",
       "      <td>2012</td>\n",
       "      <td>8</td>\n",
       "      <td>0       Sequoia Capital China, SIG Asia Invest...</td>\n",
       "      <td>2017</td>\n",
       "      <td>4</td>\n",
       "      <td>7</td>\n",
       "    </tr>\n",
       "    <tr>\n",
       "      <th>1</th>\n",
       "      <td>SpaceX</td>\n",
       "      <td>100.0</td>\n",
       "      <td>2012-12-01</td>\n",
       "      <td>Other</td>\n",
       "      <td>Hawthorne</td>\n",
       "      <td>United States</td>\n",
       "      <td>North America</td>\n",
       "      <td>2002</td>\n",
       "      <td>7</td>\n",
       "      <td>0       Sequoia Capital China, SIG Asia Invest...</td>\n",
       "      <td>2012</td>\n",
       "      <td>12</td>\n",
       "      <td>1</td>\n",
       "    </tr>\n",
       "    <tr>\n",
       "      <th>2</th>\n",
       "      <td>SHEIN</td>\n",
       "      <td>100.0</td>\n",
       "      <td>2018-07-03</td>\n",
       "      <td>E-commerce &amp; direct-to-consumer</td>\n",
       "      <td>Shenzhen</td>\n",
       "      <td>China</td>\n",
       "      <td>Asia</td>\n",
       "      <td>2008</td>\n",
       "      <td>2</td>\n",
       "      <td>0       Sequoia Capital China, SIG Asia Invest...</td>\n",
       "      <td>2018</td>\n",
       "      <td>7</td>\n",
       "      <td>3</td>\n",
       "    </tr>\n",
       "    <tr>\n",
       "      <th>3</th>\n",
       "      <td>Stripe</td>\n",
       "      <td>95.0</td>\n",
       "      <td>2014-01-23</td>\n",
       "      <td>Fintech</td>\n",
       "      <td>San Francisco</td>\n",
       "      <td>United States</td>\n",
       "      <td>North America</td>\n",
       "      <td>2010</td>\n",
       "      <td>2</td>\n",
       "      <td>0       Sequoia Capital China, SIG Asia Invest...</td>\n",
       "      <td>2014</td>\n",
       "      <td>1</td>\n",
       "      <td>23</td>\n",
       "    </tr>\n",
       "    <tr>\n",
       "      <th>4</th>\n",
       "      <td>Klarna</td>\n",
       "      <td>46.0</td>\n",
       "      <td>2011-12-12</td>\n",
       "      <td>Fintech</td>\n",
       "      <td>Stockholm</td>\n",
       "      <td>Sweden</td>\n",
       "      <td>Europe</td>\n",
       "      <td>2005</td>\n",
       "      <td>4</td>\n",
       "      <td>0       Sequoia Capital China, SIG Asia Invest...</td>\n",
       "      <td>2011</td>\n",
       "      <td>12</td>\n",
       "      <td>12</td>\n",
       "    </tr>\n",
       "  </tbody>\n",
       "</table>\n",
       "</div>"
      ],
      "text/plain": [
       "     Company  Valuation       Date                         Industry  \\\n",
       "0  Bytedance      180.0 2017-04-07          Artificial intelligence   \n",
       "1     SpaceX      100.0 2012-12-01                            Other   \n",
       "2      SHEIN      100.0 2018-07-03  E-commerce & direct-to-consumer   \n",
       "3     Stripe       95.0 2014-01-23                          Fintech   \n",
       "4     Klarna       46.0 2011-12-12                          Fintech   \n",
       "\n",
       "            City        Country      Continent  Year Founded Funding  \\\n",
       "0        Beijing          China           Asia          2012       8   \n",
       "1      Hawthorne  United States  North America          2002       7   \n",
       "2       Shenzhen          China           Asia          2008       2   \n",
       "3  San Francisco  United States  North America          2010       2   \n",
       "4      Stockholm         Sweden         Europe          2005       4   \n",
       "\n",
       "                                           Investors  Year  Month  Day  \n",
       "0  0       Sequoia Capital China, SIG Asia Invest...  2017      4    7  \n",
       "1  0       Sequoia Capital China, SIG Asia Invest...  2012     12    1  \n",
       "2  0       Sequoia Capital China, SIG Asia Invest...  2018      7    3  \n",
       "3  0       Sequoia Capital China, SIG Asia Invest...  2014      1   23  \n",
       "4  0       Sequoia Capital China, SIG Asia Invest...  2011     12   12  "
      ]
     },
     "execution_count": 53,
     "metadata": {},
     "output_type": "execute_result"
    }
   ],
   "source": [
    "# let's check if our is properly cleaned \n",
    "\n",
    "Unicorn_data.head()"
   ]
  },
  {
   "cell_type": "code",
   "execution_count": 54,
   "id": "da6a3b43",
   "metadata": {},
   "outputs": [
    {
     "data": {
      "text/html": [
       "<div>\n",
       "<style scoped>\n",
       "    .dataframe tbody tr th:only-of-type {\n",
       "        vertical-align: middle;\n",
       "    }\n",
       "\n",
       "    .dataframe tbody tr th {\n",
       "        vertical-align: top;\n",
       "    }\n",
       "\n",
       "    .dataframe thead th {\n",
       "        text-align: right;\n",
       "    }\n",
       "</style>\n",
       "<table border=\"1\" class=\"dataframe\">\n",
       "  <thead>\n",
       "    <tr style=\"text-align: right;\">\n",
       "      <th></th>\n",
       "      <th>Company</th>\n",
       "      <th>Valuation</th>\n",
       "      <th>Date</th>\n",
       "      <th>Industry</th>\n",
       "      <th>City</th>\n",
       "      <th>Country</th>\n",
       "      <th>Continent</th>\n",
       "      <th>Year Founded</th>\n",
       "      <th>Funding</th>\n",
       "      <th>Investors</th>\n",
       "      <th>Year</th>\n",
       "      <th>Month</th>\n",
       "      <th>Day</th>\n",
       "    </tr>\n",
       "  </thead>\n",
       "  <tbody>\n",
       "    <tr>\n",
       "      <th>1069</th>\n",
       "      <td>Zhaogang</td>\n",
       "      <td>1.0</td>\n",
       "      <td>2017-06-29</td>\n",
       "      <td>E-commerce &amp; direct-to-consumer</td>\n",
       "      <td>Shanghai</td>\n",
       "      <td>China</td>\n",
       "      <td>Asia</td>\n",
       "      <td>2012</td>\n",
       "      <td>379</td>\n",
       "      <td>0       Sequoia Capital China, SIG Asia Invest...</td>\n",
       "      <td>2017</td>\n",
       "      <td>6</td>\n",
       "      <td>29</td>\n",
       "    </tr>\n",
       "    <tr>\n",
       "      <th>1070</th>\n",
       "      <td>Zhuan Zhuan</td>\n",
       "      <td>1.0</td>\n",
       "      <td>2017-04-18</td>\n",
       "      <td>E-commerce &amp; direct-to-consumer</td>\n",
       "      <td>Beijing</td>\n",
       "      <td>China</td>\n",
       "      <td>Asia</td>\n",
       "      <td>2015</td>\n",
       "      <td>990</td>\n",
       "      <td>0       Sequoia Capital China, SIG Asia Invest...</td>\n",
       "      <td>2017</td>\n",
       "      <td>4</td>\n",
       "      <td>18</td>\n",
       "    </tr>\n",
       "    <tr>\n",
       "      <th>1071</th>\n",
       "      <td>Zihaiguo</td>\n",
       "      <td>1.0</td>\n",
       "      <td>2021-05-06</td>\n",
       "      <td>Consumer &amp; retail</td>\n",
       "      <td>Chongqing</td>\n",
       "      <td>China</td>\n",
       "      <td>Asia</td>\n",
       "      <td>2018</td>\n",
       "      <td>80</td>\n",
       "      <td>0       Sequoia Capital China, SIG Asia Invest...</td>\n",
       "      <td>2021</td>\n",
       "      <td>5</td>\n",
       "      <td>6</td>\n",
       "    </tr>\n",
       "    <tr>\n",
       "      <th>1072</th>\n",
       "      <td>Zopa</td>\n",
       "      <td>1.0</td>\n",
       "      <td>2021-10-19</td>\n",
       "      <td>Fintech</td>\n",
       "      <td>London</td>\n",
       "      <td>United Kingdom</td>\n",
       "      <td>Europe</td>\n",
       "      <td>2005</td>\n",
       "      <td>792</td>\n",
       "      <td>0       Sequoia Capital China, SIG Asia Invest...</td>\n",
       "      <td>2021</td>\n",
       "      <td>10</td>\n",
       "      <td>19</td>\n",
       "    </tr>\n",
       "    <tr>\n",
       "      <th>1073</th>\n",
       "      <td>Zwift</td>\n",
       "      <td>1.0</td>\n",
       "      <td>2020-09-16</td>\n",
       "      <td>E-commerce &amp; direct-to-consumer</td>\n",
       "      <td>Long Beach</td>\n",
       "      <td>United States</td>\n",
       "      <td>North America</td>\n",
       "      <td>2014</td>\n",
       "      <td>620</td>\n",
       "      <td>0       Sequoia Capital China, SIG Asia Invest...</td>\n",
       "      <td>2020</td>\n",
       "      <td>9</td>\n",
       "      <td>16</td>\n",
       "    </tr>\n",
       "  </tbody>\n",
       "</table>\n",
       "</div>"
      ],
      "text/plain": [
       "          Company  Valuation       Date                         Industry  \\\n",
       "1069     Zhaogang        1.0 2017-06-29  E-commerce & direct-to-consumer   \n",
       "1070  Zhuan Zhuan        1.0 2017-04-18  E-commerce & direct-to-consumer   \n",
       "1071     Zihaiguo        1.0 2021-05-06                Consumer & retail   \n",
       "1072         Zopa        1.0 2021-10-19                          Fintech   \n",
       "1073        Zwift        1.0 2020-09-16  E-commerce & direct-to-consumer   \n",
       "\n",
       "            City         Country      Continent  Year Founded Funding  \\\n",
       "1069    Shanghai           China           Asia          2012     379   \n",
       "1070     Beijing           China           Asia          2015     990   \n",
       "1071   Chongqing           China           Asia          2018      80   \n",
       "1072      London  United Kingdom         Europe          2005     792   \n",
       "1073  Long Beach   United States  North America          2014     620   \n",
       "\n",
       "                                              Investors  Year  Month  Day  \n",
       "1069  0       Sequoia Capital China, SIG Asia Invest...  2017      6   29  \n",
       "1070  0       Sequoia Capital China, SIG Asia Invest...  2017      4   18  \n",
       "1071  0       Sequoia Capital China, SIG Asia Invest...  2021      5    6  \n",
       "1072  0       Sequoia Capital China, SIG Asia Invest...  2021     10   19  \n",
       "1073  0       Sequoia Capital China, SIG Asia Invest...  2020      9   16  "
      ]
     },
     "execution_count": 54,
     "metadata": {},
     "output_type": "execute_result"
    }
   ],
   "source": [
    "Unicorn_data.tail()"
   ]
  },
  {
   "cell_type": "code",
   "execution_count": null,
   "id": "cfd09d9b",
   "metadata": {},
   "outputs": [],
   "source": []
  },
  {
   "cell_type": "code",
   "execution_count": null,
   "id": "820ea058",
   "metadata": {},
   "outputs": [],
   "source": []
  },
  {
   "cell_type": "markdown",
   "id": "b87bd4e6",
   "metadata": {},
   "source": [
    "# Get Information About Our Dataset"
   ]
  },
  {
   "cell_type": "code",
   "execution_count": 55,
   "id": "8173e113",
   "metadata": {},
   "outputs": [
    {
     "name": "stdout",
     "output_type": "stream",
     "text": [
      "<class 'pandas.core.frame.DataFrame'>\n",
      "RangeIndex: 1074 entries, 0 to 1073\n",
      "Data columns (total 13 columns):\n",
      " #   Column        Non-Null Count  Dtype         \n",
      "---  ------        --------------  -----         \n",
      " 0   Company       1074 non-null   object        \n",
      " 1   Valuation     1074 non-null   float64       \n",
      " 2   Date          1074 non-null   datetime64[ns]\n",
      " 3   Industry      1074 non-null   object        \n",
      " 4   City          1058 non-null   object        \n",
      " 5   Country       1074 non-null   object        \n",
      " 6   Continent     1074 non-null   object        \n",
      " 7   Year Founded  1074 non-null   int64         \n",
      " 8   Funding       1074 non-null   object        \n",
      " 9   Investors     1074 non-null   object        \n",
      " 10  Year          1074 non-null   int64         \n",
      " 11  Month         1074 non-null   int64         \n",
      " 12  Day           1074 non-null   int64         \n",
      "dtypes: datetime64[ns](1), float64(1), int64(4), object(7)\n",
      "memory usage: 109.2+ KB\n"
     ]
    }
   ],
   "source": [
    "Unicorn_data.info()"
   ]
  },
  {
   "cell_type": "code",
   "execution_count": null,
   "id": "82d34542",
   "metadata": {},
   "outputs": [],
   "source": []
  },
  {
   "cell_type": "code",
   "execution_count": null,
   "id": "e6ff3715",
   "metadata": {},
   "outputs": [],
   "source": []
  },
  {
   "cell_type": "markdown",
   "id": "139dcba1",
   "metadata": {},
   "source": [
    "# Find The Shape of Our Dataset (Number of Rows and Columns)"
   ]
  },
  {
   "cell_type": "code",
   "execution_count": 56,
   "id": "ac128e90",
   "metadata": {},
   "outputs": [
    {
     "data": {
      "text/plain": [
       "(1074, 13)"
      ]
     },
     "execution_count": 56,
     "metadata": {},
     "output_type": "execute_result"
    }
   ],
   "source": [
    "# Let's check the shape of our dataset\n",
    "\n",
    "Unicorn_data.shape"
   ]
  },
  {
   "cell_type": "code",
   "execution_count": 57,
   "id": "1c4aca93",
   "metadata": {},
   "outputs": [
    {
     "name": "stdout",
     "output_type": "stream",
     "text": [
      "Numbers of Rows 1074\n",
      "Numbers of Columns 13\n"
     ]
    }
   ],
   "source": [
    "print('Numbers of Rows', Unicorn_data.shape[0])\n",
    "print('Numbers of Columns', Unicorn_data.shape[1])"
   ]
  },
  {
   "cell_type": "markdown",
   "id": "9216d4b4",
   "metadata": {},
   "source": [
    "### There are 1074 rows and 13 columns in our dataset."
   ]
  },
  {
   "cell_type": "code",
   "execution_count": null,
   "id": "99831ca7",
   "metadata": {},
   "outputs": [],
   "source": []
  },
  {
   "cell_type": "code",
   "execution_count": null,
   "id": "39392d21",
   "metadata": {},
   "outputs": [],
   "source": []
  },
  {
   "cell_type": "markdown",
   "id": "8fd8912b",
   "metadata": {},
   "source": [
    "# Check The Null Values in Our Dataset"
   ]
  },
  {
   "cell_type": "code",
   "execution_count": 58,
   "id": "9d7772a7",
   "metadata": {},
   "outputs": [
    {
     "data": {
      "text/plain": [
       "Company          0\n",
       "Valuation        0\n",
       "Date             0\n",
       "Industry         0\n",
       "City            16\n",
       "Country          0\n",
       "Continent        0\n",
       "Year Founded     0\n",
       "Funding          0\n",
       "Investors        0\n",
       "Year             0\n",
       "Month            0\n",
       "Day              0\n",
       "dtype: int64"
      ]
     },
     "execution_count": 58,
     "metadata": {},
     "output_type": "execute_result"
    }
   ],
   "source": [
    "Unicorn_data.isnull().sum()"
   ]
  },
  {
   "cell_type": "code",
   "execution_count": null,
   "id": "526270d3",
   "metadata": {},
   "outputs": [],
   "source": []
  },
  {
   "cell_type": "code",
   "execution_count": null,
   "id": "4ce043b9",
   "metadata": {},
   "outputs": [],
   "source": []
  },
  {
   "cell_type": "markdown",
   "id": "3604e850",
   "metadata": {},
   "source": [
    "# Handling Missing Values"
   ]
  },
  {
   "cell_type": "markdown",
   "id": "2d83ad46",
   "metadata": {},
   "source": [
    "### Mode..... The most repeated value"
   ]
  },
  {
   "cell_type": "code",
   "execution_count": null,
   "id": "27282465",
   "metadata": {},
   "outputs": [],
   "source": []
  },
  {
   "cell_type": "code",
   "execution_count": 59,
   "id": "8322f7c1",
   "metadata": {},
   "outputs": [],
   "source": [
    "# Find the mode in the missing values of the 'City' column\n",
    "\n",
    "Mode = Unicorn_data['City'].mode()"
   ]
  },
  {
   "cell_type": "code",
   "execution_count": 60,
   "id": "bc3fc756",
   "metadata": {},
   "outputs": [
    {
     "name": "stdout",
     "output_type": "stream",
     "text": [
      "0    San Francisco\n",
      "Name: City, dtype: object\n"
     ]
    }
   ],
   "source": [
    "print(Mode)"
   ]
  },
  {
   "cell_type": "code",
   "execution_count": 61,
   "id": "ec8831a5",
   "metadata": {},
   "outputs": [],
   "source": [
    "# Let's replace the missing values in the 'City' column with the mode\n",
    "\n",
    "Unicorn_data['City'].fillna(Unicorn_data['City'].mode()[0], inplace = True)"
   ]
  },
  {
   "cell_type": "code",
   "execution_count": 62,
   "id": "66c02465",
   "metadata": {},
   "outputs": [
    {
     "data": {
      "text/plain": [
       "Company         0\n",
       "Valuation       0\n",
       "Date            0\n",
       "Industry        0\n",
       "City            0\n",
       "Country         0\n",
       "Continent       0\n",
       "Year Founded    0\n",
       "Funding         0\n",
       "Investors       0\n",
       "Year            0\n",
       "Month           0\n",
       "Day             0\n",
       "dtype: int64"
      ]
     },
     "execution_count": 62,
     "metadata": {},
     "output_type": "execute_result"
    }
   ],
   "source": [
    "# Let's check if the missing values in the City column was sucessfully replaced with mode\n",
    "\n",
    "Unicorn_data.isnull().sum()"
   ]
  },
  {
   "cell_type": "code",
   "execution_count": null,
   "id": "dbf16da7",
   "metadata": {},
   "outputs": [],
   "source": []
  },
  {
   "cell_type": "code",
   "execution_count": null,
   "id": "9ee38e48",
   "metadata": {},
   "outputs": [],
   "source": []
  },
  {
   "cell_type": "markdown",
   "id": "899e66e1",
   "metadata": {},
   "source": [
    "# Checking For Duplicates"
   ]
  },
  {
   "cell_type": "code",
   "execution_count": 63,
   "id": "942a9e1e",
   "metadata": {},
   "outputs": [
    {
     "name": "stdout",
     "output_type": "stream",
     "text": [
      "0       False\n",
      "1       False\n",
      "2       False\n",
      "3       False\n",
      "4       False\n",
      "        ...  \n",
      "1069    False\n",
      "1070    False\n",
      "1071    False\n",
      "1072    False\n",
      "1073    False\n",
      "Length: 1074, dtype: bool\n"
     ]
    }
   ],
   "source": [
    "# Let's check if there is any duplicate in our data\n",
    "\n",
    "print(Unicorn_data.duplicated())"
   ]
  },
  {
   "cell_type": "markdown",
   "id": "d0c8d21a",
   "metadata": {},
   "source": [
    "### No duplicate is found in our dataset."
   ]
  },
  {
   "cell_type": "code",
   "execution_count": null,
   "id": "395c0eef",
   "metadata": {},
   "outputs": [],
   "source": []
  },
  {
   "cell_type": "code",
   "execution_count": null,
   "id": "fa8e4dc0",
   "metadata": {},
   "outputs": [],
   "source": []
  },
  {
   "cell_type": "markdown",
   "id": "77706345",
   "metadata": {},
   "source": [
    "# Let's Get The Statistics Of The Dataset"
   ]
  },
  {
   "cell_type": "code",
   "execution_count": 64,
   "id": "f1fcacf6",
   "metadata": {},
   "outputs": [
    {
     "data": {
      "text/html": [
       "<div>\n",
       "<style scoped>\n",
       "    .dataframe tbody tr th:only-of-type {\n",
       "        vertical-align: middle;\n",
       "    }\n",
       "\n",
       "    .dataframe tbody tr th {\n",
       "        vertical-align: top;\n",
       "    }\n",
       "\n",
       "    .dataframe thead th {\n",
       "        text-align: right;\n",
       "    }\n",
       "</style>\n",
       "<table border=\"1\" class=\"dataframe\">\n",
       "  <thead>\n",
       "    <tr style=\"text-align: right;\">\n",
       "      <th></th>\n",
       "      <th>Valuation</th>\n",
       "      <th>Year Founded</th>\n",
       "      <th>Year</th>\n",
       "      <th>Month</th>\n",
       "      <th>Day</th>\n",
       "    </tr>\n",
       "  </thead>\n",
       "  <tbody>\n",
       "    <tr>\n",
       "      <th>count</th>\n",
       "      <td>1074.000000</td>\n",
       "      <td>1074.000000</td>\n",
       "      <td>1074.000000</td>\n",
       "      <td>1074.000000</td>\n",
       "      <td>1074.000000</td>\n",
       "    </tr>\n",
       "    <tr>\n",
       "      <th>mean</th>\n",
       "      <td>3.455307</td>\n",
       "      <td>2012.895717</td>\n",
       "      <td>2019.896648</td>\n",
       "      <td>6.350093</td>\n",
       "      <td>15.821229</td>\n",
       "    </tr>\n",
       "    <tr>\n",
       "      <th>std</th>\n",
       "      <td>8.547022</td>\n",
       "      <td>5.698573</td>\n",
       "      <td>2.001288</td>\n",
       "      <td>3.504007</td>\n",
       "      <td>8.541422</td>\n",
       "    </tr>\n",
       "    <tr>\n",
       "      <th>min</th>\n",
       "      <td>1.000000</td>\n",
       "      <td>1919.000000</td>\n",
       "      <td>2007.000000</td>\n",
       "      <td>1.000000</td>\n",
       "      <td>1.000000</td>\n",
       "    </tr>\n",
       "    <tr>\n",
       "      <th>25%</th>\n",
       "      <td>1.000000</td>\n",
       "      <td>2011.000000</td>\n",
       "      <td>2019.000000</td>\n",
       "      <td>3.000000</td>\n",
       "      <td>9.000000</td>\n",
       "    </tr>\n",
       "    <tr>\n",
       "      <th>50%</th>\n",
       "      <td>2.000000</td>\n",
       "      <td>2014.000000</td>\n",
       "      <td>2021.000000</td>\n",
       "      <td>6.000000</td>\n",
       "      <td>16.000000</td>\n",
       "    </tr>\n",
       "    <tr>\n",
       "      <th>75%</th>\n",
       "      <td>3.000000</td>\n",
       "      <td>2016.000000</td>\n",
       "      <td>2021.000000</td>\n",
       "      <td>9.000000</td>\n",
       "      <td>23.000000</td>\n",
       "    </tr>\n",
       "    <tr>\n",
       "      <th>max</th>\n",
       "      <td>180.000000</td>\n",
       "      <td>2021.000000</td>\n",
       "      <td>2022.000000</td>\n",
       "      <td>12.000000</td>\n",
       "      <td>31.000000</td>\n",
       "    </tr>\n",
       "  </tbody>\n",
       "</table>\n",
       "</div>"
      ],
      "text/plain": [
       "         Valuation  Year Founded         Year        Month          Day\n",
       "count  1074.000000   1074.000000  1074.000000  1074.000000  1074.000000\n",
       "mean      3.455307   2012.895717  2019.896648     6.350093    15.821229\n",
       "std       8.547022      5.698573     2.001288     3.504007     8.541422\n",
       "min       1.000000   1919.000000  2007.000000     1.000000     1.000000\n",
       "25%       1.000000   2011.000000  2019.000000     3.000000     9.000000\n",
       "50%       2.000000   2014.000000  2021.000000     6.000000    16.000000\n",
       "75%       3.000000   2016.000000  2021.000000     9.000000    23.000000\n",
       "max     180.000000   2021.000000  2022.000000    12.000000    31.000000"
      ]
     },
     "execution_count": 64,
     "metadata": {},
     "output_type": "execute_result"
    }
   ],
   "source": [
    "Unicorn_data.describe()"
   ]
  },
  {
   "cell_type": "markdown",
   "id": "278360c2",
   "metadata": {},
   "source": [
    "### . The average valuation in our dataset is 3 billion US dollars. Also the maximum valuation is 180 billion US dollars.\n",
    "\n",
    "### . The average and the maximum year the companies were founded are 2019 and 2021 respectively.\n",
    "\n",
    "### . The average and the maximum year the companies joined the unicorn companies are 2019 and 2022 respectively."
   ]
  },
  {
   "cell_type": "code",
   "execution_count": null,
   "id": "fece2148",
   "metadata": {},
   "outputs": [],
   "source": []
  },
  {
   "cell_type": "code",
   "execution_count": 65,
   "id": "40076a08",
   "metadata": {},
   "outputs": [],
   "source": [
    "# Let's the positive and negative correlation in our data\n",
    "\n",
    "correlation = Unicorn_data.corr()"
   ]
  },
  {
   "cell_type": "code",
   "execution_count": 66,
   "id": "ecdacd26",
   "metadata": {},
   "outputs": [
    {
     "data": {
      "image/png": "[encoded data removed]",
      "text/plain": [
       "<Figure size 1080x720 with 2 Axes>"
      ]
     },
     "metadata": {},
     "output_type": "display_data"
    }
   ],
   "source": [
    "# Let's construct a heatmap to understand the correlation\n",
    "\n",
    "plt.figure(figsize = (15,10))\n",
    "sns.heatmap(Unicorn_data.corr(), annot = True)\n",
    "plt.title('Correlation Between The Columns', fontsize = 25)\n",
    "plt.show()"
   ]
  },
  {
   "cell_type": "code",
   "execution_count": 67,
   "id": "10d72616",
   "metadata": {},
   "outputs": [
    {
     "data": {
      "text/html": [
       "<div>\n",
       "<style scoped>\n",
       "    .dataframe tbody tr th:only-of-type {\n",
       "        vertical-align: middle;\n",
       "    }\n",
       "\n",
       "    .dataframe tbody tr th {\n",
       "        vertical-align: top;\n",
       "    }\n",
       "\n",
       "    .dataframe thead th {\n",
       "        text-align: right;\n",
       "    }\n",
       "</style>\n",
       "<table border=\"1\" class=\"dataframe\">\n",
       "  <thead>\n",
       "    <tr style=\"text-align: right;\">\n",
       "      <th></th>\n",
       "      <th>Company</th>\n",
       "      <th>Industry</th>\n",
       "      <th>City</th>\n",
       "      <th>Country</th>\n",
       "      <th>Continent</th>\n",
       "      <th>Funding</th>\n",
       "      <th>Investors</th>\n",
       "    </tr>\n",
       "  </thead>\n",
       "  <tbody>\n",
       "    <tr>\n",
       "      <th>count</th>\n",
       "      <td>1074</td>\n",
       "      <td>1074</td>\n",
       "      <td>1074</td>\n",
       "      <td>1074</td>\n",
       "      <td>1074</td>\n",
       "      <td>1074</td>\n",
       "      <td>1074</td>\n",
       "    </tr>\n",
       "    <tr>\n",
       "      <th>unique</th>\n",
       "      <td>1073</td>\n",
       "      <td>16</td>\n",
       "      <td>256</td>\n",
       "      <td>46</td>\n",
       "      <td>6</td>\n",
       "      <td>537</td>\n",
       "      <td>1</td>\n",
       "    </tr>\n",
       "    <tr>\n",
       "      <th>top</th>\n",
       "      <td>Bolt</td>\n",
       "      <td>Fintech</td>\n",
       "      <td>San Francisco</td>\n",
       "      <td>United States</td>\n",
       "      <td>North America</td>\n",
       "      <td>1</td>\n",
       "      <td>0       Sequoia Capital China, SIG Asia Invest...</td>\n",
       "    </tr>\n",
       "    <tr>\n",
       "      <th>freq</th>\n",
       "      <td>2</td>\n",
       "      <td>224</td>\n",
       "      <td>168</td>\n",
       "      <td>562</td>\n",
       "      <td>589</td>\n",
       "      <td>61</td>\n",
       "      <td>1074</td>\n",
       "    </tr>\n",
       "  </tbody>\n",
       "</table>\n",
       "</div>"
      ],
      "text/plain": [
       "       Company Industry           City        Country      Continent Funding  \\\n",
       "count     1074     1074           1074           1074           1074    1074   \n",
       "unique    1073       16            256             46              6     537   \n",
       "top       Bolt  Fintech  San Francisco  United States  North America       1   \n",
       "freq         2      224            168            562            589      61   \n",
       "\n",
       "                                                Investors  \n",
       "count                                                1074  \n",
       "unique                                                  1  \n",
       "top     0       Sequoia Capital China, SIG Asia Invest...  \n",
       "freq                                                 1074  "
      ]
     },
     "execution_count": 67,
     "metadata": {},
     "output_type": "execute_result"
    }
   ],
   "source": [
    "Unicorn_data.describe(include='object')"
   ]
  },
  {
   "cell_type": "markdown",
   "id": "39ee4926",
   "metadata": {},
   "source": [
    "### . We have 1073 companies, 18 industries, 256 cities, 46 countries and continents in our dataset.\n",
    "\n",
    "### . Fintech is the top industry in our dataset.\n",
    "\n",
    "### . San Francisco is the top city in our dataset.\n",
    "\n",
    "### . United States is the top country of the startups.\n",
    "\n",
    "### . North America is the top continent in our dataset."
   ]
  },
  {
   "cell_type": "code",
   "execution_count": null,
   "id": "6d5cf0b1",
   "metadata": {},
   "outputs": [],
   "source": []
  },
  {
   "cell_type": "code",
   "execution_count": null,
   "id": "993615a4",
   "metadata": {},
   "outputs": [],
   "source": []
  },
  {
   "cell_type": "markdown",
   "id": "3182b903",
   "metadata": {},
   "source": [
    "# EXPLORATORY DATA ANALYSIS"
   ]
  },
  {
   "cell_type": "code",
   "execution_count": 68,
   "id": "fa9947bc",
   "metadata": {},
   "outputs": [
    {
     "data": {
      "text/html": [
       "<div>\n",
       "<style scoped>\n",
       "    .dataframe tbody tr th:only-of-type {\n",
       "        vertical-align: middle;\n",
       "    }\n",
       "\n",
       "    .dataframe tbody tr th {\n",
       "        vertical-align: top;\n",
       "    }\n",
       "\n",
       "    .dataframe thead th {\n",
       "        text-align: right;\n",
       "    }\n",
       "</style>\n",
       "<table border=\"1\" class=\"dataframe\">\n",
       "  <thead>\n",
       "    <tr style=\"text-align: right;\">\n",
       "      <th></th>\n",
       "      <th>Company</th>\n",
       "      <th>Valuation</th>\n",
       "      <th>Date</th>\n",
       "      <th>Industry</th>\n",
       "      <th>City</th>\n",
       "      <th>Country</th>\n",
       "      <th>Continent</th>\n",
       "      <th>Year Founded</th>\n",
       "      <th>Funding</th>\n",
       "      <th>Investors</th>\n",
       "      <th>Year</th>\n",
       "      <th>Month</th>\n",
       "      <th>Day</th>\n",
       "    </tr>\n",
       "  </thead>\n",
       "  <tbody>\n",
       "    <tr>\n",
       "      <th>0</th>\n",
       "      <td>Bytedance</td>\n",
       "      <td>180.0</td>\n",
       "      <td>2017-04-07</td>\n",
       "      <td>Artificial intelligence</td>\n",
       "      <td>Beijing</td>\n",
       "      <td>China</td>\n",
       "      <td>Asia</td>\n",
       "      <td>2012</td>\n",
       "      <td>8</td>\n",
       "      <td>0       Sequoia Capital China, SIG Asia Invest...</td>\n",
       "      <td>2017</td>\n",
       "      <td>4</td>\n",
       "      <td>7</td>\n",
       "    </tr>\n",
       "    <tr>\n",
       "      <th>1</th>\n",
       "      <td>SpaceX</td>\n",
       "      <td>100.0</td>\n",
       "      <td>2012-12-01</td>\n",
       "      <td>Other</td>\n",
       "      <td>Hawthorne</td>\n",
       "      <td>United States</td>\n",
       "      <td>North America</td>\n",
       "      <td>2002</td>\n",
       "      <td>7</td>\n",
       "      <td>0       Sequoia Capital China, SIG Asia Invest...</td>\n",
       "      <td>2012</td>\n",
       "      <td>12</td>\n",
       "      <td>1</td>\n",
       "    </tr>\n",
       "    <tr>\n",
       "      <th>2</th>\n",
       "      <td>SHEIN</td>\n",
       "      <td>100.0</td>\n",
       "      <td>2018-07-03</td>\n",
       "      <td>E-commerce &amp; direct-to-consumer</td>\n",
       "      <td>Shenzhen</td>\n",
       "      <td>China</td>\n",
       "      <td>Asia</td>\n",
       "      <td>2008</td>\n",
       "      <td>2</td>\n",
       "      <td>0       Sequoia Capital China, SIG Asia Invest...</td>\n",
       "      <td>2018</td>\n",
       "      <td>7</td>\n",
       "      <td>3</td>\n",
       "    </tr>\n",
       "    <tr>\n",
       "      <th>3</th>\n",
       "      <td>Stripe</td>\n",
       "      <td>95.0</td>\n",
       "      <td>2014-01-23</td>\n",
       "      <td>Fintech</td>\n",
       "      <td>San Francisco</td>\n",
       "      <td>United States</td>\n",
       "      <td>North America</td>\n",
       "      <td>2010</td>\n",
       "      <td>2</td>\n",
       "      <td>0       Sequoia Capital China, SIG Asia Invest...</td>\n",
       "      <td>2014</td>\n",
       "      <td>1</td>\n",
       "      <td>23</td>\n",
       "    </tr>\n",
       "    <tr>\n",
       "      <th>4</th>\n",
       "      <td>Klarna</td>\n",
       "      <td>46.0</td>\n",
       "      <td>2011-12-12</td>\n",
       "      <td>Fintech</td>\n",
       "      <td>Stockholm</td>\n",
       "      <td>Sweden</td>\n",
       "      <td>Europe</td>\n",
       "      <td>2005</td>\n",
       "      <td>4</td>\n",
       "      <td>0       Sequoia Capital China, SIG Asia Invest...</td>\n",
       "      <td>2011</td>\n",
       "      <td>12</td>\n",
       "      <td>12</td>\n",
       "    </tr>\n",
       "  </tbody>\n",
       "</table>\n",
       "</div>"
      ],
      "text/plain": [
       "     Company  Valuation       Date                         Industry  \\\n",
       "0  Bytedance      180.0 2017-04-07          Artificial intelligence   \n",
       "1     SpaceX      100.0 2012-12-01                            Other   \n",
       "2      SHEIN      100.0 2018-07-03  E-commerce & direct-to-consumer   \n",
       "3     Stripe       95.0 2014-01-23                          Fintech   \n",
       "4     Klarna       46.0 2011-12-12                          Fintech   \n",
       "\n",
       "            City        Country      Continent  Year Founded Funding  \\\n",
       "0        Beijing          China           Asia          2012       8   \n",
       "1      Hawthorne  United States  North America          2002       7   \n",
       "2       Shenzhen          China           Asia          2008       2   \n",
       "3  San Francisco  United States  North America          2010       2   \n",
       "4      Stockholm         Sweden         Europe          2005       4   \n",
       "\n",
       "                                           Investors  Year  Month  Day  \n",
       "0  0       Sequoia Capital China, SIG Asia Invest...  2017      4    7  \n",
       "1  0       Sequoia Capital China, SIG Asia Invest...  2012     12    1  \n",
       "2  0       Sequoia Capital China, SIG Asia Invest...  2018      7    3  \n",
       "3  0       Sequoia Capital China, SIG Asia Invest...  2014      1   23  \n",
       "4  0       Sequoia Capital China, SIG Asia Invest...  2011     12   12  "
      ]
     },
     "execution_count": 68,
     "metadata": {},
     "output_type": "execute_result"
    }
   ],
   "source": [
    "# Let's view our data again\n",
    "\n",
    "Unicorn_data.head()"
   ]
  },
  {
   "cell_type": "code",
   "execution_count": null,
   "id": "04412965",
   "metadata": {},
   "outputs": [],
   "source": []
  },
  {
   "cell_type": "code",
   "execution_count": null,
   "id": "55f51786",
   "metadata": {},
   "outputs": [],
   "source": []
  },
  {
   "cell_type": "markdown",
   "id": "b003a616",
   "metadata": {},
   "source": [
    "# The Top Five Unicorn Startups in Different Industry Sector"
   ]
  },
  {
   "cell_type": "code",
   "execution_count": 69,
   "id": "3ead543c",
   "metadata": {},
   "outputs": [
    {
     "data": {
      "text/plain": [
       "Fintech                            224\n",
       "Internet software & services       205\n",
       "E-commerce & direct-to-consumer    111\n",
       "Health                              74\n",
       "Artificial intelligence             73\n",
       "Name: Industry, dtype: int64"
      ]
     },
     "execution_count": 69,
     "metadata": {},
     "output_type": "execute_result"
    }
   ],
   "source": [
    "Unicorn_data['Industry'].value_counts().head()"
   ]
  },
  {
   "cell_type": "code",
   "execution_count": 70,
   "id": "34a3bc3b",
   "metadata": {},
   "outputs": [
    {
     "data": {
      "image/png": "[encoded data removed]",
      "text/plain": [
       "<Figure size 720x720 with 1 Axes>"
      ]
     },
     "metadata": {},
     "output_type": "display_data"
    }
   ],
   "source": [
    "Unicorn_data['Industry'].value_counts().head().plot(kind='pie', figsize=(10,10), autopct= '%1.1f%%', title = 'The Top Five Unicorn Startups in Different Industry Sector', fontsize=15)\n",
    "plt.show()"
   ]
  },
  {
   "cell_type": "markdown",
   "id": "e4ebf8da",
   "metadata": {},
   "source": [
    "### . Fintech is the leading startup industry with 32.6%.\n",
    "\n",
    "### . Internet software and services following with 29.8%.\n",
    "\n",
    "### . E-commerce and direct-to-consumer with 16.2%.\n",
    "\n",
    "### . Health with 10.8%.\n",
    "\n",
    "### . Artificial Intelligence with 10.6%."
   ]
  },
  {
   "cell_type": "code",
   "execution_count": null,
   "id": "681dc0e1",
   "metadata": {},
   "outputs": [],
   "source": []
  },
  {
   "cell_type": "code",
   "execution_count": null,
   "id": "50ee126c",
   "metadata": {},
   "outputs": [],
   "source": []
  },
  {
   "cell_type": "markdown",
   "id": "53caf25f",
   "metadata": {},
   "source": [
    "# The Top Five Valued Companies in the World"
   ]
  },
  {
   "cell_type": "code",
   "execution_count": 71,
   "id": "c9bd1a48",
   "metadata": {},
   "outputs": [
    {
     "data": {
      "text/plain": [
       "Company\n",
       "Bytedance    180.0\n",
       "SpaceX       100.0\n",
       "SHEIN        100.0\n",
       "Stripe        95.0\n",
       "Klarna        46.0\n",
       "Name: Valuation, dtype: float64"
      ]
     },
     "execution_count": 71,
     "metadata": {},
     "output_type": "execute_result"
    }
   ],
   "source": [
    "Unicorn_data.groupby('Company')['Valuation'].sum().sort_values(ascending=False).head()"
   ]
  },
  {
   "cell_type": "code",
   "execution_count": 72,
   "id": "66b473bd",
   "metadata": {},
   "outputs": [
    {
     "data": {
      "image/png": "[encoded data removed]",
      "text/plain": [
       "<Figure size 432x288 with 1 Axes>"
      ]
     },
     "metadata": {},
     "output_type": "display_data"
    }
   ],
   "source": [
    "# Let's visualize the data \n",
    "\n",
    "Unicorn_data.groupby('Company')['Valuation'].sum().sort_values(ascending=False).head().plot(kind='bar', title='The Top Five Valued Companies in the World', fontsize=20)\n",
    "plt.show()"
   ]
  },
  {
   "cell_type": "markdown",
   "id": "ce4af752",
   "metadata": {},
   "source": [
    "### . Bytedance is the most valued company in the world with the valuation of 180 Billion US Dollars.\n",
    "\n",
    "### . SpaceX following with the valuation of 100 Billion US Dollars.\n",
    "\n",
    "### . SHEIN with the valuation of 100 Billion US Dollars.\n",
    "\n",
    "### . Stripe with the valuation of 95 Billion US Dollars.\n",
    "\n",
    "### . Klarna with the valuation of 46 Billion US Dollars."
   ]
  },
  {
   "cell_type": "code",
   "execution_count": null,
   "id": "677636c1",
   "metadata": {},
   "outputs": [],
   "source": []
  },
  {
   "cell_type": "code",
   "execution_count": null,
   "id": "af5a52fa",
   "metadata": {},
   "outputs": [],
   "source": []
  },
  {
   "cell_type": "markdown",
   "id": "6e949569",
   "metadata": {},
   "source": [
    "# The Least Five Valued Companies in the World"
   ]
  },
  {
   "cell_type": "code",
   "execution_count": 73,
   "id": "7262fe74",
   "metadata": {},
   "outputs": [
    {
     "data": {
      "text/plain": [
       "Company\n",
       "Papa            1.0\n",
       "Panther Labs    1.0\n",
       "Figment         1.0\n",
       "PandaDoc        1.0\n",
       "LivSpace        1.0\n",
       "Name: Valuation, dtype: float64"
      ]
     },
     "execution_count": 73,
     "metadata": {},
     "output_type": "execute_result"
    }
   ],
   "source": [
    "Unicorn_data.groupby('Company')['Valuation'].sum().sort_values(ascending=False).tail()"
   ]
  },
  {
   "cell_type": "code",
   "execution_count": 74,
   "id": "edbf5bfa",
   "metadata": {},
   "outputs": [
    {
     "data": {
      "image/png": "[encoded data removed]",
      "text/plain": [
       "<Figure size 432x288 with 1 Axes>"
      ]
     },
     "metadata": {},
     "output_type": "display_data"
    }
   ],
   "source": [
    "# Let's visualize the data\n",
    "\n",
    "Unicorn_data.groupby('Company')['Valuation'].sum().sort_values(ascending=False).tail().plot(kind='bar', title='The Least Five Valued Companies in the World', fontsize=20)\n",
    "plt.show()"
   ]
  },
  {
   "cell_type": "markdown",
   "id": "de5aa118",
   "metadata": {},
   "source": [
    "### . Papa, Panther Labs, Figment, PandaDoc and Livespace are the least valued companies in our dataset with the valuation of 1 billion US dollars."
   ]
  },
  {
   "cell_type": "code",
   "execution_count": null,
   "id": "b2c132dc",
   "metadata": {},
   "outputs": [],
   "source": []
  },
  {
   "cell_type": "code",
   "execution_count": null,
   "id": "b74e0b55",
   "metadata": {},
   "outputs": [],
   "source": []
  },
  {
   "cell_type": "markdown",
   "id": "80244130",
   "metadata": {},
   "source": [
    "# The Top Five Valued Startup Cities in the World"
   ]
  },
  {
   "cell_type": "code",
   "execution_count": 75,
   "id": "c989a767",
   "metadata": {},
   "outputs": [
    {
     "data": {
      "text/plain": [
       "City\n",
       "San Francisco    782.0\n",
       "Beijing          348.0\n",
       "New York         233.0\n",
       "London           178.0\n",
       "Shenzhen         141.0\n",
       "Name: Valuation, dtype: float64"
      ]
     },
     "execution_count": 75,
     "metadata": {},
     "output_type": "execute_result"
    }
   ],
   "source": [
    "Unicorn_data.groupby('City')['Valuation'].sum().sort_values(ascending=False).head()"
   ]
  },
  {
   "cell_type": "code",
   "execution_count": 76,
   "id": "c210cf6b",
   "metadata": {},
   "outputs": [
    {
     "data": {
      "image/png": "[encoded data removed]",
      "text/plain": [
       "<Figure size 432x288 with 1 Axes>"
      ]
     },
     "metadata": {},
     "output_type": "display_data"
    }
   ],
   "source": [
    "Unicorn_data.groupby('City')['Valuation'].sum().sort_values(ascending=False).head().plot(kind='bar', title='The Top Five Valued Cities in the World', fontsize=20)\n",
    "plt.show()"
   ]
  },
  {
   "cell_type": "markdown",
   "id": "47f0c23b",
   "metadata": {},
   "source": [
    "### The following insights are be extracted from the visual representation above;\n",
    "\n",
    "### . San Francisco is the most valued startup city in the world with the Valuation of 782 Bilion US Dollars.\n",
    "### . Beijing with the Valuation of 348 Billion US Dollars.\n",
    "### . New York with the Valuation of 233 Billion US Dollars.\n",
    "### . London with the Valuation of 178 Billion US Dollars.\n",
    "### . Shenzhen with the Valuation of 141 Billion US Dollars."
   ]
  },
  {
   "cell_type": "code",
   "execution_count": null,
   "id": "339d77a4",
   "metadata": {},
   "outputs": [],
   "source": []
  },
  {
   "cell_type": "code",
   "execution_count": null,
   "id": "de48a036",
   "metadata": {},
   "outputs": [],
   "source": []
  },
  {
   "cell_type": "markdown",
   "id": "ab1c5680",
   "metadata": {},
   "source": [
    "# The Least Valued Cities in the World"
   ]
  },
  {
   "cell_type": "code",
   "execution_count": 77,
   "id": "281e8a90",
   "metadata": {},
   "outputs": [
    {
     "data": {
      "text/plain": [
       "City\n",
       "Roubaix       1.0\n",
       "Hyderabad     1.0\n",
       "Islandia      1.0\n",
       "Ramat Gan     1.0\n",
       "Framingham    1.0\n",
       "Name: Valuation, dtype: float64"
      ]
     },
     "execution_count": 77,
     "metadata": {},
     "output_type": "execute_result"
    }
   ],
   "source": [
    "Unicorn_data.groupby('City')['Valuation'].sum().sort_values(ascending=False).tail()"
   ]
  },
  {
   "cell_type": "code",
   "execution_count": 78,
   "id": "7bcf3d36",
   "metadata": {},
   "outputs": [
    {
     "data": {
      "image/png": "[encoded data removed]",
      "text/plain": [
       "<Figure size 432x288 with 1 Axes>"
      ]
     },
     "metadata": {},
     "output_type": "display_data"
    }
   ],
   "source": [
    "Unicorn_data.groupby('City')['Valuation'].sum().sort_values(ascending=False).tail().plot(kind='bar', title='The Least Valued Cities in the World', fontsize=20)\n",
    "plt.show()"
   ]
  },
  {
   "cell_type": "markdown",
   "id": "9b7f84c5",
   "metadata": {},
   "source": [
    "### . The following cities are the least valued cities in our data with the valuation 1 billion US dollars RoubaiX, Hyderabad, Islandia, Ramat Gan, and Framingham."
   ]
  },
  {
   "cell_type": "code",
   "execution_count": null,
   "id": "1cd5164b",
   "metadata": {},
   "outputs": [],
   "source": []
  },
  {
   "cell_type": "code",
   "execution_count": null,
   "id": "d55ef370",
   "metadata": {},
   "outputs": [],
   "source": []
  },
  {
   "cell_type": "markdown",
   "id": "0ad87766",
   "metadata": {},
   "source": [
    "# The Top Ten Valued Startup Countries in the World"
   ]
  },
  {
   "cell_type": "code",
   "execution_count": 79,
   "id": "e5eadb0b",
   "metadata": {},
   "outputs": [
    {
     "data": {
      "text/plain": [
       "Country\n",
       "United States     1933.0\n",
       "China              696.0\n",
       "India              196.0\n",
       "United Kingdom     195.0\n",
       "Germany             72.0\n",
       "Sweden              63.0\n",
       "Australia           56.0\n",
       "France              55.0\n",
       "Canada              49.0\n",
       "South Korea         41.0\n",
       "Name: Valuation, dtype: float64"
      ]
     },
     "execution_count": 79,
     "metadata": {},
     "output_type": "execute_result"
    }
   ],
   "source": [
    "Unicorn_data.groupby('Country')['Valuation'].sum().sort_values(ascending=False).head(10)"
   ]
  },
  {
   "cell_type": "code",
   "execution_count": 80,
   "id": "65811b5e",
   "metadata": {},
   "outputs": [
    {
     "data": {
      "image/png": "[encoded data removed]",
      "text/plain": [
       "<Figure size 432x288 with 1 Axes>"
      ]
     },
     "metadata": {},
     "output_type": "display_data"
    }
   ],
   "source": [
    "Unicorn_data.groupby('Country')['Valuation'].sum().sort_values(ascending=False).head(10).plot(kind='bar', title='The Top Ten Valued Countries in the World', fontsize=20)\n",
    "plt.show()"
   ]
  },
  {
   "cell_type": "markdown",
   "id": "a181e155",
   "metadata": {},
   "source": [
    "### . United States is the most valued startup country in the world with the valuation of 1.9 billion US dollars.\n",
    "\n",
    "### . China with the valuation of 696 billion US dollars.\n",
    "\n",
    "### . India with the valuation of 196 billion US dollars.\n",
    "\n",
    "### . United Kingdom with the valuation of 195 billion US dollars.\n",
    "\n",
    "### . Germany with the valuation of 72 billion US dollars.\n",
    "\n",
    "### . Sweden with the valuation of 63 billion US dollars.\n",
    "\n",
    "### . Australia with the valuation of 56 billion US dollars.\n",
    "\n",
    "### . Ftance with the valuation of 55 billion US dollars.\n",
    "\n",
    "### . Canada with the valuation of 49 billion US dollars.\n",
    "\n",
    "### . South Korea with the valuation of 41 billion US dollars."
   ]
  },
  {
   "cell_type": "code",
   "execution_count": null,
   "id": "45e9385c",
   "metadata": {},
   "outputs": [],
   "source": []
  },
  {
   "cell_type": "code",
   "execution_count": null,
   "id": "9288f82c",
   "metadata": {},
   "outputs": [],
   "source": []
  },
  {
   "cell_type": "markdown",
   "id": "a250d84b",
   "metadata": {},
   "source": [
    "# The Least Ten Valued Countries in the World"
   ]
  },
  {
   "cell_type": "code",
   "execution_count": 81,
   "id": "3e2a42ec",
   "metadata": {},
   "outputs": [
    {
     "data": {
      "text/plain": [
       "Country\n",
       "Thailand          3.0\n",
       "Argentina         2.0\n",
       "Senegal           2.0\n",
       "Nigeria           2.0\n",
       "Malaysia          2.0\n",
       "Luxembourg        2.0\n",
       "Bermuda           2.0\n",
       "Czech Republic    1.0\n",
       "Croatia           1.0\n",
       "Italy             1.0\n",
       "Name: Valuation, dtype: float64"
      ]
     },
     "execution_count": 81,
     "metadata": {},
     "output_type": "execute_result"
    }
   ],
   "source": [
    "Unicorn_data.groupby('Country')['Valuation'].sum().sort_values(ascending=False).tail(10)"
   ]
  },
  {
   "cell_type": "code",
   "execution_count": 82,
   "id": "7fb5f3cb",
   "metadata": {},
   "outputs": [
    {
     "data": {
      "image/png": "[encoded data removed]",
      "text/plain": [
       "<Figure size 432x288 with 1 Axes>"
      ]
     },
     "metadata": {},
     "output_type": "display_data"
    }
   ],
   "source": [
    "Unicorn_data.groupby('Country')['Valuation'].sum().sort_values(ascending=False).tail(10).plot(kind='bar', title='The Least Ten Valued Countries in the World', fontsize=20)\n",
    "plt.show()"
   ]
  },
  {
   "cell_type": "markdown",
   "id": "eb358be4",
   "metadata": {},
   "source": [
    "### . Apart from Thailand that has the valuation of 3 billion US dollars.The following countries are valued for 2 billion US dollars; Argentina, Senegal, Nigeria, Malaysia, Luxemburg and Bermuda.\n",
    "\n",
    "### . Czech Republic, Crotia, and Italy are valued for 1 billion US dollars."
   ]
  },
  {
   "cell_type": "code",
   "execution_count": null,
   "id": "86cff7e0",
   "metadata": {},
   "outputs": [],
   "source": []
  },
  {
   "cell_type": "code",
   "execution_count": null,
   "id": "79e398fb",
   "metadata": {},
   "outputs": [],
   "source": []
  },
  {
   "cell_type": "markdown",
   "id": "67779ff9",
   "metadata": {},
   "source": [
    "# The Most Valued Startup Continents in the World"
   ]
  },
  {
   "cell_type": "code",
   "execution_count": 83,
   "id": "254c2048",
   "metadata": {},
   "outputs": [
    {
     "data": {
      "text/plain": [
       "Continent\n",
       "North America    2032.0\n",
       "Asia             1067.0\n",
       "Europe            503.0\n",
       "Oceania            56.0\n",
       "South America      48.0\n",
       "Africa              5.0\n",
       "Name: Valuation, dtype: float64"
      ]
     },
     "execution_count": 83,
     "metadata": {},
     "output_type": "execute_result"
    }
   ],
   "source": [
    "Unicorn_data.groupby('Continent')['Valuation'].sum().sort_values(ascending=False).head(6)"
   ]
  },
  {
   "cell_type": "code",
   "execution_count": 84,
   "id": "6806170e",
   "metadata": {},
   "outputs": [
    {
     "data": {
      "image/png": "[encoded data removed]",
      "text/plain": [
       "<Figure size 432x288 with 1 Axes>"
      ]
     },
     "metadata": {},
     "output_type": "display_data"
    }
   ],
   "source": [
    "Unicorn_data.groupby('Continent')['Valuation'].sum().sort_values(ascending=False).head(6).plot(kind='bar', title='The Most Valued Continents in the World', fontsize=20)\n",
    "plt.show()"
   ]
  },
  {
   "cell_type": "markdown",
   "id": "bc98fe32",
   "metadata": {},
   "source": [
    "### . North America is the most valued startup continent in the world with the valuation of 2 billion US dollars.\n",
    "\n",
    "### . Followed by Asia with the valuation of 1.1 billion US dollars.\n",
    "\n",
    "### . Europe with the valuation of 503 billion US dollars.\n",
    "\n",
    "### . Oceania with the valuation of 56 billion US dollars.\n",
    "\n",
    "### . South America with the valuation of 48 US dollars.\n",
    "\n",
    "### . Africa with the valuation of 5 billion US dollars."
   ]
  },
  {
   "cell_type": "code",
   "execution_count": null,
   "id": "96910710",
   "metadata": {},
   "outputs": [],
   "source": []
  },
  {
   "cell_type": "code",
   "execution_count": null,
   "id": "41282e93",
   "metadata": {},
   "outputs": [],
   "source": []
  },
  {
   "cell_type": "markdown",
   "id": "77886144",
   "metadata": {},
   "source": [
    "# Key Insights"
   ]
  },
  {
   "cell_type": "markdown",
   "id": "f6bdb71d",
   "metadata": {},
   "source": [
    "### . The average valuation in our dataset is 3 billion US dollars. Also the maximum valuation is 180 Billion US Dollars.\n",
    "\n",
    "### . The average and the maximum year the companies were founded are 2019 and 2021 respectively.\n",
    "\n",
    "### . The average and the maximum year the companies joined the unicorn clubs are 2019 and 2022 respectively.\n",
    "\n",
    "### . There are 1073 companies, 18 industries, 256 cities, 46 countries and continents in our dataset.\n",
    "\n",
    "### . Fintech is the top industry in our dataset.\n",
    "\n",
    "### . San Francisco is the top city in our dataset.\n",
    "\n",
    "### . United States is the top country of the startups.\n",
    "\n",
    "### . North America is the top continent in our dataset.\n",
    "\n",
    "### . SpaceX joined the Unicorn club in 2012.\n",
    "\n",
    "### . Stripe joined the Unicorn club in 2014.\n",
    "\n",
    "### . Bytedance joined the Unicorn club in 2017.\n",
    "\n",
    "### . Plaid joined the Unicorn club in 2018.\n",
    "\n",
    "### . Chime joined the Unicorn club in 2019.\n",
    "\n",
    "### . Canva company was founded in 2012.\n",
    "\n",
    "### . Sendbird company was founded in 2013.\n",
    "\n",
    "### . Grammarly company was founded in 2019.\n",
    "\n",
    "### . Stripe was founded in 2010.\n",
    "\n",
    "### . SpaceX was founded in 2002.\n",
    "\n",
    "### . Fintech is leading with 32.6% in the industry, Internet software and services following with 29.8%, E-commerce and direct-to-consumer with 16.2%, Health with 10.8%, and Artificial Intelligence following with 10.6%. The above mentioned are the top five industries in our data.\n",
    "\n",
    "### . San Francisco is the most valued startup city in the world with the Valuation of 782 Billion US Dollars, Beijing with the Valuation of 348 Billion US Dollars, New York with the Valuation of 233 Billion US Dollars, London with the Valuation of 178 Billion US Dollars, and Shenzhen with the Valuation of 141 Billion US Dollars. They are the top five valued startup cities in the world.\n",
    "\n",
    "### . The following cities are the least valued cities in our data with the valuation 1 billion US dollars RoubaiX, Hyderabad, Islandia, Ramat Gan, and Framingham.\n",
    "\n",
    "### . United States is the most valued startup company in the world with the Valuation of 1.9 Billion US Dollars, China with the Valuation of 696 Billion US Dollars, India with the Valuation of 196 Billion US Dollars, United Kingdom with the Valuation of 195 Billion US Dollars, Germany with the Valuation of 72 Billion US Dollars, Sweden with the Valuation of 63 Billion US Dollars, Australia with the Valuation of 56 Billion US Dollars, France with the Valuation of 55 Billion US Dollars, Canada with the Valuation of 49 Billion US Dollars, and South Korea with the Valuation of 41 Billion US Dollars. The countries above are the top ten countries in the world.\n",
    "\n",
    "### . Apart Thailand that has the valuation of 3 billion US dollars.The following countries are valued for 2 billion US dollars; Argentina, Senegal, Nigeria, Malaysia, Luxemburg and Bermuda. Czech Republic, Crotia, and Italy are valued for 1 billion US dollars\n",
    "\n",
    "### . North America is the most valued startup continent in the world with the valuation of 2 Billion US Dollars, Followed by Asia with the valuation of 1.1 billion US dollars, Europe with the valuation of 503 billion US dollars, Oceania with the valuation of 56 billion US dollars, South America with the valuation of 48 US dollars, and Africa with the valuation of 5 billion US dollars.\n",
    "\n",
    "### . Bytedance is the most valued company in the world with the valuation of 180 Billion US Dollars, SpaceX following with the valuation of 100 Billion US Dollars, SHEIN with the valuation of 100 Billion US Dollars, Stripe with the valuation of 95 Billion US Dollars, and Klarna with the valuation of 46 Billion US Dollars.\n",
    "\n",
    "### . Papa, Panther Labs, Figment, PandaDoc and Livespace are the least valued companies in our dataset with the valuation of 1 billion US dollars."
   ]
  },
  {
   "cell_type": "code",
   "execution_count": null,
   "id": "1af7e8d5",
   "metadata": {},
   "outputs": [],
   "source": []
  },
  {
   "cell_type": "code",
   "execution_count": null,
   "id": "0afd6ded",
   "metadata": {},
   "outputs": [],
   "source": []
  },
  {
   "cell_type": "markdown",
   "id": "a90231fb",
   "metadata": {},
   "source": [
    "# Observations and Recommendations"
   ]
  },
  {
   "cell_type": "markdown",
   "id": "79b9bdce",
   "metadata": {},
   "source": [
    "### . If you are technology-minded, San Francisco, Beijing, New York, London, and Shenzhen are the cities for you. Staying in those cities can be rewarding.\n",
    "\n",
    "### . Avoid cities like Roubaix, Hyderabad, Islandia, Ramat Gan, and Framingham.\n",
    "\n",
    "### . If you want to migrate to a technology wise. The following countries should be your go-to-country, USA, China, India, United Kingdom, Germany, Sweden, Australia, France, Canada, and South Korea.\n",
    "\n",
    "### . Avoid countries like Thailand, Argentina, Senegal, Nigeria, Malaysia, Luxembourg, Bermuda, Czech Republic, Crotia, and Italy. They are not tech hub countries.\n",
    "\n",
    "### . North America, Asia, Europe, Ocenia, and South America are the most valued startup continent in the world.\n",
    "\n",
    "### . Bytedance, SpaceX, SHEIN, Stripe, and Klarna are the most valued company in the world."
   ]
  },
  {
   "cell_type": "code",
   "execution_count": null,
   "id": "217bd6ae",
   "metadata": {},
   "outputs": [],
   "source": []
  },
  {
   "cell_type": "code",
   "execution_count": null,
   "id": "d424c09c",
   "metadata": {},
   "outputs": [],
   "source": []
  }
 ],
 "metadata": {
  "kernelspec": {
   "display_name": "Python 3 (ipykernel)",
   "language": "python",
   "name": "python3"
  },
  "language_info": {
   "codemirror_mode": {
    "name": "ipython",
    "version": 3
   },
   "file_extension": ".py",
   "mimetype": "text/x-python",
   "name": "python",
   "nbconvert_exporter": "python",
   "pygments_lexer": "ipython3",
   "version": "3.9.12"
  }
 },
 "nbformat": 4,
 "nbformat_minor": 5
}
